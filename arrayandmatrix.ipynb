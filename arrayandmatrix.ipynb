{
  "nbformat": 4,
  "nbformat_minor": 0,
  "metadata": {
    "colab": {
      "provenance": [],
      "authorship_tag": "ABX9TyMpgE8xjwb4pNPq6eQqkNi/",
      "include_colab_link": true
    },
    "kernelspec": {
      "name": "python3",
      "display_name": "Python 3"
    },
    "language_info": {
      "name": "python"
    }
  },
  "cells": [
    {
      "cell_type": "markdown",
      "metadata": {
        "id": "view-in-github",
        "colab_type": "text"
      },
      "source": [
        "<a href=\"https://colab.research.google.com/github/logesh2511/Python_example/blob/main/arrayandmatrix.ipynb\" target=\"_parent\"><img src=\"https://colab.research.google.com/assets/colab-badge.svg\" alt=\"Open In Colab\"/></a>"
      ]
    },
    {
      "cell_type": "code",
      "source": [
        "\n",
        "import numpy as np\n",
        "a=np.random.randint(1,20,(8,5))\n",
        "print(a)\n",
        "print(a.sum())\n",
        "print(a.sum(axis=0))\n",
        "print(a.sum(axis=1))\n",
        "\n",
        "print(a.min())\n",
        "print(a.min(axis=0))\n",
        "print(a.min(axis=1))\n",
        "\n",
        "print(a.max())\n",
        "print(a.max(axis=0))\n",
        "print(a.max(axis=1))\n",
        "\n",
        "print(a.argmax(axis=0))\n",
        "print(a.argmax(axis=1))\n",
        "\n",
        "print(a.argmin(axis=0))\n",
        "print(a.argmin(axis=1))\n",
        "\n",
        "print(a.mean())\n",
        "print(a.mean(axis=0))\n",
        "print(a.mean(axis=1))\n",
        "\n"
      ],
      "metadata": {
        "id": "9QOouQTkK422",
        "colab": {
          "base_uri": "https://localhost:8080/"
        },
        "outputId": "abe0ad42-e80d-4f3f-efd9-0ce65e667452"
      },
      "execution_count": 9,
      "outputs": [
        {
          "output_type": "stream",
          "name": "stdout",
          "text": [
            "[[16 12 19  3 10]\n",
            " [ 5  5  3  5 12]\n",
            " [ 1  8 12  1 14]\n",
            " [ 5 11 15  3  9]\n",
            " [ 3  5 10  1 19]\n",
            " [ 6 13 15 19 12]\n",
            " [19  4 18 11  6]\n",
            " [11 11 16 14 12]]\n",
            "394\n",
            "[ 66  69 108  57  94]\n",
            "[60 30 36 43 38 65 58 64]\n",
            "1\n",
            "[1 4 3 1 6]\n",
            "[ 3  3  1  3  1  6  4 11]\n",
            "19\n",
            "[19 13 19 19 19]\n",
            "[19 12 14 15 19 19 19 16]\n",
            "[6 5 0 5 4]\n",
            "[2 4 4 2 4 3 0 2]\n",
            "[2 6 1 2 6]\n",
            "[3 2 0 3 3 0 1 0]\n",
            "9.85\n",
            "[ 8.25   8.625 13.5    7.125 11.75 ]\n",
            "[12.   6.   7.2  8.6  7.6 13.  11.6 12.8]\n"
          ]
        }
      ]
    },
    {
      "cell_type": "code",
      "source": [
        "\n"
      ],
      "metadata": {
        "id": "rZ6AUnwJNWsS"
      },
      "execution_count": 9,
      "outputs": []
    },
    {
      "cell_type": "code",
      "source": [
        "a2=a.reshape(2,5,4)\n"
      ],
      "metadata": {
        "id": "phFCgPGlXsSS"
      },
      "execution_count": 10,
      "outputs": []
    },
    {
      "cell_type": "code",
      "execution_count": 3,
      "metadata": {
        "id": "gG_EjZzoJqHp",
        "colab": {
          "base_uri": "https://localhost:8080/"
        },
        "outputId": "056a5c8d-a577-4bef-d35b-c086b8738fac"
      },
      "outputs": [
        {
          "output_type": "stream",
          "name": "stdout",
          "text": [
            "[1, 3, 4, 6, 7, 9, 2, 4, 9, 8, 5, 3, 4]\n",
            "Requirement already satisfied: numpy in /usr/local/lib/python3.12/dist-packages (2.0.2)\n"
          ]
        }
      ],
      "source": [
        "n1=[1,3,4,6,7,9,2]\n",
        "n2=[4,9,8,5,3,4]\n",
        "n3=n1+n2\n",
        "print(n3)\n",
        "\n",
        "import numpy as np\n",
        "!pip install numpy\n"
      ]
    },
    {
      "cell_type": "code",
      "source": [],
      "metadata": {
        "id": "GPYq65JtK2zZ"
      },
      "execution_count": 3,
      "outputs": []
    },
    {
      "cell_type": "code",
      "source": [
        "a1=np.array([1,2,3,4,5])\n",
        "print(a1)\n",
        "a2=np.array([3,4,5,6,7])\n",
        "print(a2)\n",
        "a3=a1+a2\n",
        "print(type(a1))\n",
        "print(type(a2))\n",
        "print(type(a3))\n",
        "print(a3)"
      ],
      "metadata": {
        "id": "OU4AhlKnNzqe",
        "colab": {
          "base_uri": "https://localhost:8080/"
        },
        "outputId": "5cc36d82-13c3-496e-d4bf-5cedfc1fcded"
      },
      "execution_count": 4,
      "outputs": [
        {
          "output_type": "stream",
          "name": "stdout",
          "text": [
            "[1 2 3 4 5]\n",
            "[3 4 5 6 7]\n",
            "<class 'numpy.ndarray'>\n",
            "<class 'numpy.ndarray'>\n",
            "<class 'numpy.ndarray'>\n",
            "[ 4  6  8 10 12]\n"
          ]
        }
      ]
    },
    {
      "cell_type": "code",
      "source": [
        "a1=np.array([1,2,3,4,5])\n",
        "print(a1)\n",
        "a2=np.array([3,4,5,6,7])\n",
        "print(a2)\n",
        "a3=a1+a2\n",
        "print(type(a1))\n",
        "print(type(a2))\n",
        "print(type(a3))\n",
        "print(a3)\n",
        "\n",
        "a4=np.array(a1+a2)\n",
        "print(\"add\",a4)\n",
        "\n",
        "a5=np.array(a1-a2)\n",
        "print(\"sub\",a5)\n",
        "\n",
        "a6=np.array(a1*a2)\n",
        "print(\"mult\",a6)\n",
        "\n",
        "a7=np.array(a1/a2)\n",
        "print(\"div\",a7)\n",
        "\n",
        "a8=np.array(a1%a2)\n",
        "print(\"mod\",a8)"
      ],
      "metadata": {
        "id": "Qmy-S-RkQNdX",
        "colab": {
          "base_uri": "https://localhost:8080/"
        },
        "outputId": "2542582e-7d8f-4600-c5d3-b3d9c507bb26"
      },
      "execution_count": 5,
      "outputs": [
        {
          "output_type": "stream",
          "name": "stdout",
          "text": [
            "[1 2 3 4 5]\n",
            "[3 4 5 6 7]\n",
            "<class 'numpy.ndarray'>\n",
            "<class 'numpy.ndarray'>\n",
            "<class 'numpy.ndarray'>\n",
            "[ 4  6  8 10 12]\n",
            "add [ 4  6  8 10 12]\n",
            "sub [-2 -2 -2 -2 -2]\n",
            "mult [ 3  8 15 24 35]\n",
            "div [0.33333333 0.5        0.6        0.66666667 0.71428571]\n",
            "mod [1 2 3 4 5]\n"
          ]
        }
      ]
    },
    {
      "cell_type": "code",
      "source": [
        "a1=np.array([1,2,3,4,5])\n",
        "print(a1)\n",
        "a2=np.array([3,4,5,6,7])\n",
        "print(a2)\n",
        "a3=a1+a2\n",
        "print(type(a1))\n",
        "print(type(a2))\n",
        "print(type(a3))\n",
        "print(a3)\n",
        "\n",
        "a4=np.array(a1+a2)\n",
        "print(\"add\",a4)\n",
        "\n",
        "a5=np.array(a1-a2)\n",
        "print(\"sub\",a5)\n",
        "\n",
        "a6=np.array(a1*a2)\n",
        "print(\"mult\",a6)\n",
        "\n",
        "a7=np.array(a1/a2)\n",
        "print(\"div\",a7)\n",
        "\n",
        "a8=np.array(a1%a2)\n",
        "print(\"mod\",a8)\n",
        "\n",
        "a3=np.sum(a1)\n",
        "a4=np.sum(a2)\n",
        "print(a1,\"\\n\",a2)\n",
        "\n",
        "a3=np.min(a1)\n",
        "a4=np.min(a2)\n",
        "print(a3,\"\\n\",a4)\n",
        "\n",
        "a3=np.max(a1)\n",
        "a4=np.max(a2)\n",
        "print(a3,\"\\n\",a4)\n",
        "\n",
        "a3=np.mean(a1)\n",
        "a4=np.mean(a2)\n",
        "print(a3,\"\\n\",a4)\n",
        "\n",
        "a3=np.median(a1)\n",
        "a4=np.median(a2)\n",
        "print(a3,\"\\n\",a4)"
      ],
      "metadata": {
        "id": "_F17vcMxRnn0",
        "colab": {
          "base_uri": "https://localhost:8080/"
        },
        "outputId": "13a3a848-6a9b-42dd-c64a-aadc7d893453"
      },
      "execution_count": 6,
      "outputs": [
        {
          "output_type": "stream",
          "name": "stdout",
          "text": [
            "[1 2 3 4 5]\n",
            "[3 4 5 6 7]\n",
            "<class 'numpy.ndarray'>\n",
            "<class 'numpy.ndarray'>\n",
            "<class 'numpy.ndarray'>\n",
            "[ 4  6  8 10 12]\n",
            "add [ 4  6  8 10 12]\n",
            "sub [-2 -2 -2 -2 -2]\n",
            "mult [ 3  8 15 24 35]\n",
            "div [0.33333333 0.5        0.6        0.66666667 0.71428571]\n",
            "mod [1 2 3 4 5]\n",
            "[1 2 3 4 5] \n",
            " [3 4 5 6 7]\n",
            "1 \n",
            " 3\n",
            "5 \n",
            " 7\n",
            "3.0 \n",
            " 5.0\n",
            "3.0 \n",
            " 5.0\n"
          ]
        }
      ]
    },
    {
      "cell_type": "code",
      "source": [
        "import numpy as np\n",
        "# Corrected array with consistent inner list lengths\n",
        "a3=np.array([1,2,3,4,5])\n",
        "print(a3.ndim,\"\\n\",a3,\"\\n\")\n",
        "a2=np.array([[2,4,5,6,6],[1,2,3,4,5]])\n",
        "print(\"\\n\",a2.ndim)\n",
        "print(a2,\"\\n\")\n",
        "a1=np.array([[[1,2,4,5,6,7],[3,5,67,8,9,0],[3,6,9,7,6,0]]])\n",
        "print(a1.ndim)\n",
        "print(a1)"
      ],
      "metadata": {
        "id": "DDlRPqaGVJT1",
        "colab": {
          "base_uri": "https://localhost:8080/"
        },
        "outputId": "82e56454-c96f-4945-f177-9d458b203a2a"
      },
      "execution_count": 7,
      "outputs": [
        {
          "output_type": "stream",
          "name": "stdout",
          "text": [
            "1 \n",
            " [1 2 3 4 5] \n",
            "\n",
            "\n",
            " 2\n",
            "[[2 4 5 6 6]\n",
            " [1 2 3 4 5]] \n",
            "\n",
            "3\n",
            "[[[ 1  2  4  5  6  7]\n",
            "  [ 3  5 67  8  9  0]\n",
            "  [ 3  6  9  7  6  0]]]\n"
          ]
        }
      ]
    },
    {
      "cell_type": "code",
      "source": [
        "import numpy as np\n",
        "# Corrected array with consistent inner list lengths\n",
        "a1=np.array([1,2,3,4,5])\n",
        "print(a1.ndim,\"\\n\",a1,\"\\n\")\n",
        "\n",
        "a2=np.array([[2,4,5,6,6],[1,2,3,4,5]])\n",
        "print(\"\\n\",a2.ndim,\"\\n\",a2,\"\\n\")\n",
        "\n",
        "a3=np.array([[[1,2,4,5,6,7],[3,5,67,8,9,0],[3,6,9,7,6,0]]])\n",
        "print(\"\\n\",a3.ndim,\"\\n\",a3,\"\\n\")\n",
        "\n",
        "print(\"lenght of a1 \",len(a1))\n",
        "print(\"lenght of a2 \",len(a2))\n",
        "print(\"lenght of a3 \",len(a3))\n",
        "\n",
        "print(a1.shape)\n",
        "print(a2.shape)\n",
        "print(a3.shape)\n",
        "\n",
        "print(a1.dtype)\n",
        "print(a2.dtype)\n",
        "print(a3.dtype)"
      ],
      "metadata": {
        "id": "9HONrrRmd5j3",
        "colab": {
          "base_uri": "https://localhost:8080/"
        },
        "outputId": "14be0e29-5337-42d9-c13c-2a4196d0b8ac"
      },
      "execution_count": 8,
      "outputs": [
        {
          "output_type": "stream",
          "name": "stdout",
          "text": [
            "1 \n",
            " [1 2 3 4 5] \n",
            "\n",
            "\n",
            " 2 \n",
            " [[2 4 5 6 6]\n",
            " [1 2 3 4 5]] \n",
            "\n",
            "\n",
            " 3 \n",
            " [[[ 1  2  4  5  6  7]\n",
            "  [ 3  5 67  8  9  0]\n",
            "  [ 3  6  9  7  6  0]]] \n",
            "\n",
            "lenght of a1  5\n",
            "lenght of a2  2\n",
            "lenght of a3  1\n",
            "(5,)\n",
            "(2, 5)\n",
            "(1, 3, 6)\n",
            "int64\n",
            "int64\n",
            "int64\n"
          ]
        }
      ]
    }
  ]
}